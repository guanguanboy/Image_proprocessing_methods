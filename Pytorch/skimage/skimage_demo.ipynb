{
 "cells": [
  {
   "cell_type": "markdown",
   "metadata": {},
   "source": [
    "# 使用skimage的接口读取图片数据\n",
    "- 构建dataset及dataloader"
   ]
  },
  {
   "cell_type": "code",
   "execution_count": 1,
   "metadata": {},
   "outputs": [],
   "source": [
    "import os\n",
    "import pandas as pd\n",
    "import torch\n",
    "from torch.utils.data import Dataset\n",
    "from skimage import io\n"
   ]
  },
  {
   "cell_type": "markdown",
   "metadata": {},
   "source": [
    "- 定义DataSet\n",
    "- 通过skimage.imread()函数读取出来的类型是<class 'numpy.ndarray'>,对于rgb图像来说 shape：width，height, chan_num"
   ]
  },
  {
   "cell_type": "code",
   "execution_count": 16,
   "metadata": {},
   "outputs": [],
   "source": [
    "class CatsAndDogsDataset(Dataset):\n",
    "    def __init__(self, csv_file, root_dir, transform=None):\n",
    "        self.annotations = pd.read_csv(csv_file)\n",
    "        self.root_dir = root_dir\n",
    "        self.transform = transform\n",
    "        \n",
    "    def __len__(self):\n",
    "        return len(self.annotations) #25000\n",
    "    \n",
    "    def __getitem__(self, index):\n",
    "        img_path = os.path.join(self.root_dir, self.annotations.iloc[index, 0]) \n",
    "        #csv file中存储的是图片文件名及类别，第0列存储的是图片名称\n",
    "        image = io.imread(img_path)\n",
    "        #print(type(image)) <class 'numpy.ndarray'>\n",
    "        #print(image.shape) #(224, 224, 3),分别是width height, chan_num\n",
    "        y_label = torch.tensor(int(self.annotations.iloc[index, 1])) #第一列存储的是类别\n",
    "        \n",
    "        if self.transform:\n",
    "            image = self.transform(image) #transform 中一定要包含ToTensor\n",
    "        \n",
    "        return image, y_label"
   ]
  },
  {
   "cell_type": "markdown",
   "metadata": {},
   "source": [
    "- 创建Dataset及dataloader"
   ]
  },
  {
   "cell_type": "code",
   "execution_count": 17,
   "metadata": {
    "scrolled": true
   },
   "outputs": [
    {
     "name": "stdout",
     "output_type": "stream",
     "text": [
      "(224, 224, 3)\n",
      "(224, 224, 3)\n",
      "2\n",
      "torch.Size([2, 3, 224, 224])\n",
      "tensor([1, 0])\n",
      "(224, 224, 3)\n",
      "(224, 224, 3)\n",
      "0\n",
      "torch.Size([2, 3, 224, 224])\n",
      "tensor([0, 0])\n",
      "(224, 224, 3)\n",
      "(224, 224, 3)\n",
      "1\n",
      "torch.Size([2, 3, 224, 224])\n",
      "tensor([0, 1])\n",
      "(224, 224, 3)\n",
      "(224, 224, 3)\n",
      "2\n",
      "torch.Size([2, 3, 224, 224])\n",
      "tensor([0, 0])\n",
      "(224, 224, 3)\n",
      "(224, 224, 3)\n",
      "3\n",
      "torch.Size([2, 3, 224, 224])\n",
      "tensor([0, 1])\n"
     ]
    }
   ],
   "source": [
    "import torch\n",
    "import torchvision.transforms as transforms\n",
    "import torchvision\n",
    "from torch.utils.data import DataLoader\n",
    "\n",
    "dataset = CatsAndDogsDataset(csv_file = 'cats_dogs.csv', root_dir = 'cats_dogs_resized',\n",
    "                            transform = transforms.ToTensor())\n",
    "#print(len(dataset)) #10\n",
    "train_set, test_set = torch.utils.data.random_split(dataset, [8, 2]) \n",
    "#dataset中总共有10张图片，我们将数据分成两部分，8张用来训练，另外2张用来测试\n",
    "\n",
    "batch_size = 2\n",
    "train_loader = DataLoader(dataset=train_set, batch_size=batch_size, shuffle=True)\n",
    "test_loader = DataLoader(dataset=test_set, batch_size=batch_size, shuffle=True)\n",
    "\n",
    "image, label = next(iter(train_loader))\n",
    "print(len(image))\n",
    "print(image.shape) #torch.Size([2, 3, 224, 224]),分别是batch_size, chan_num, width, height\n",
    "print(label)\n",
    "\n",
    "for batch_idx, (data, targets) in enumerate(train_loader):\n",
    "    print(batch_idx)\n",
    "    print(data.shape)\n",
    "    print(targets)"
   ]
  }
 ],
 "metadata": {
  "kernelspec": {
   "display_name": "Python 3",
   "language": "python",
   "name": "python3"
  },
  "language_info": {
   "codemirror_mode": {
    "name": "ipython",
    "version": 3
   },
   "file_extension": ".py",
   "mimetype": "text/x-python",
   "name": "python",
   "nbconvert_exporter": "python",
   "pygments_lexer": "ipython3",
   "version": "3.8.3"
  }
 },
 "nbformat": 4,
 "nbformat_minor": 4
}
